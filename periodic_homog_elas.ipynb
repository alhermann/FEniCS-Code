{
 "cells": [
  {
   "cell_type": "markdown",
   "metadata": {},
   "source": [
    "# Periodic homogenization of linear elastic materials\n",
    "\n",
    "## Introduction\n",
    "\n",
    "This tour will show how to perform periodic homogenization of linear elastic materials. The considered 2D plane strain problem deals with a skewed unit cell of dimensions $1\\times \\sqrt{3}/2$ consisting of circular inclusions (numbered $1$) of radius $R$ with elastic properties $(E_r, \\nu_r)$ and embedded in a matrix material (numbered $0$) of properties $(E_m, \\nu_m)$ following an hexagonal pattern. A classical result of homogenization theory ensures that the resulting overall behavior will be isotropic, a property that will be numerically verified later."
   ]
  },
  {
   "cell_type": "code",
   "execution_count": 1,
   "metadata": {},
   "outputs": [],
   "source": [
    "from __future__ import print_function\n",
    "from dolfin import *\n",
    "import numpy as np\n",
    "import matplotlib.pyplot as plt\n",
    "# %matplotlib notebook\n",
    "%matplotlib inline"
   ]
  },
  {
   "cell_type": "code",
   "execution_count": 2,
   "metadata": {},
   "outputs": [
    {
     "data": {
      "text/plain": [
       "[<matplotlib.lines.Line2D at 0x7ff52f9504a8>,\n",
       " <matplotlib.lines.Line2D at 0x7ff52f9507b8>]"
      ]
     },
     "execution_count": 2,
     "metadata": {},
     "output_type": "execute_result"
    },
    {
     "data": {
      "image/png": "[encoded data removed]",
      "text/plain": [
       "<Figure size 480x320 with 2 Axes>"
      ]
     },
     "metadata": {
      "needs_background": "light"
     },
     "output_type": "display_data"
    }
   ],
   "source": [
    "a = 1.         # unit cell width\n",
    "b = sqrt(3.)/2. # unit cell height\n",
    "c = 0.5        # horizontal offset of top boundary\n",
    "R = 0.2        # inclusion radius\n",
    "vol = a*b      # unit cell volume\n",
    "# we define the unit cell vertices coordinates for later use\n",
    "vertices = np.array([[0, 0.],\n",
    "                     [a, 0.],\n",
    "                     [a+c, b],\n",
    "                     [c, b]])\n",
    "fname = \"hexag_incl\"\n",
    "mesh = Mesh(fname + \".xml\")\n",
    "subdomains = MeshFunction(\"size_t\", mesh, fname + \"_physical_region.xml\")\n",
    "facets = MeshFunction(\"size_t\", mesh, fname + \"_facet_region.xml\")\n",
    "plt.figure(dpi=80)\n",
    "plt.subplot(1,2,1)\n",
    "plot(subdomains)\n",
    "plt.subplot(1,2,2)\n",
    "plot(mesh)"
   ]
  },
  {
   "cell_type": "markdown",
   "metadata": {},
   "source": [
    "**Remark**: `mshr` does not allow to generate a meshed domain with perfectly matching vertices on opposite boundaries as would be required when imposing periodic boundary conditions. For this reason, we used a `Gmsh`-generated mesh."
   ]
  },
  {
   "cell_type": "markdown",
   "metadata": {},
   "source": [
    "## Periodic homogenization framework\n",
    "\n",
    "The goal of homogenization theory consists in computing the apparent elastic moduli of the homogenized medium associated with a given microstructure. In a linear elastic setting, this amounts to solving the following auxiliary problem defined on the unit cell $\\mathcal{A}$:\n",
    "\n",
    "$$\\begin{equation}\\begin{cases}\\operatorname{div} \\boldsymbol{\\sigma} = \\boldsymbol{0} & \\text{in } \\mathcal{A} \\\\ \n",
    "\\boldsymbol{\\sigma} = \\mathbb{C}(\\boldsymbol{y}):\\boldsymbol{\\varepsilon} & \\text{for }\\boldsymbol{y}\\in\\mathcal{A} \\\\\n",
    "\\boldsymbol{\\varepsilon} = \\boldsymbol{E} + \\nabla^s \\boldsymbol{v} & \\text{in } \\mathcal{A} \\\\\n",
    "\\boldsymbol{v} & \\text{is } \\mathcal{A}\\text{-periodic} \\\\\n",
    "\\boldsymbol{T}=\\boldsymbol{\\sigma}\\cdot\\boldsymbol{n} & \\text{is } \\mathcal{A}\\text{-antiperiodic}\n",
    "\\end{cases} \\label{auxiliary-problem}\n",
    "\\end{equation}$$\n",
    "\n",
    "where $\\boldsymbol{E}$ is the **given** macroscopic strain, $\\boldsymbol{v}$ a periodic fluctuation and $\\mathbb{C}(\\boldsymbol{y})$ is the heterogeneous elasticity tensor depending on the microscopic space variable $\\boldsymbol{y}\\in\\mathcal{A}$. By construction, the local microscopic strain is equal on average to the macroscopic strain: $\\langle \\boldsymbol{\\varepsilon} \\rangle = \\boldsymbol{E}$. Upon defining the macroscopic stress $\\boldsymbol{\\Sigma}$ as the microscopic stress average: $\\langle \\boldsymbol{\\sigma} \\rangle = \\boldsymbol{\\Sigma}$, there will be a linear relationship between the auxiliary problem loading parameters $\\boldsymbol{E}$ and the resulting average stress:\n",
    "\n",
    "$$\\boldsymbol{\\Sigma}  = \\mathbb{C}^{hom}:\\boldsymbol{E}$$\n",
    "\n",
    "where $\\mathbb{C}^{hom}$ represents the apparent elastic moduli of the homogenized medium. Hence, its components can be computed by solving elementary load cases corresponding to the different components of $\\boldsymbol{E}$ and performing a unit cell average of the resulting microscopic stress components.\n",
    "\n",
    "### Total displacement as the main unknown\n",
    "\n",
    "The previous problem can also be reformulated by using the total displacement $\\boldsymbol{u} = \\boldsymbol{E}\\cdot\\boldsymbol{y} + \\boldsymbol{v}$ as the main unknown with now $\\boldsymbol{\\varepsilon} = \\nabla^s \\boldsymbol{u}$. The periodicity condition is therefore equivalent to the following constraint: \n",
    "\n",
    "$$\\boldsymbol{u}(\\boldsymbol{y}^+)-\\boldsymbol{u}(\\boldsymbol{y}^-) = \\boldsymbol{E}\\cdot(\\boldsymbol{y}^+-\\boldsymbol{y}^-)$$\n",
    "\n",
    "where $\\boldsymbol{y}^{\\pm}$ are opposite points on the unit cell boundary related by the periodicity condition. This formulation is widely used in solid mechanics FE software as it does not require specific change of the problem formulation but just adding tying constraints between some degrees of freedom.\n",
    "\n",
    "This formulation is however not easy to translate in FEniCS. It would indeed require introducing Lagrange multipliers defined on some part of the border only, a feature which does not seem to be available at the moment.\n",
    "\n",
    "### Periodic fluctuation as the main unknown\n",
    "\n",
    "Instead, we will keep the initial formulation and consider the periodic fluctuation $\\boldsymbol{v}$ as the main unknown. The periodicity constraint on $\\boldsymbol{v}$ will be imposed in the definition of the associated FunctionSpace using the ``constrained_domain`` optional keyword. To do so, one must define the periodic map linking the different unit cell boundaries. Here the unit cell is 2D and its boundary is represented by a parallelogram of vertices ``vertices`` and the corresponding base vectors `a1` and `a2` are computed. The right part is then mapped onto the left part, the top part onto the bottom part and the top-right corner onto the bottom-left one."
   ]
  },
  {
   "cell_type": "code",
   "execution_count": 3,
   "metadata": {},
   "outputs": [],
   "source": [
    "# class used to define the periodic boundary map\n",
    "class PeriodicBoundary(SubDomain):\n",
    "    def __init__(self, vertices, tolerance=DOLFIN_EPS):\n",
    "        \"\"\" vertices stores the coordinates of the 4 unit cell corners\"\"\"\n",
    "        SubDomain.__init__(self, tolerance)\n",
    "        self.tol = tolerance\n",
    "        self.vv = vertices\n",
    "        self.a1 = self.vv[1,:]-self.vv[0,:] # first vector generating periodicity\n",
    "        self.a2 = self.vv[3,:]-self.vv[0,:] # second vector generating periodicity\n",
    "        # check if UC vertices form indeed a parallelogram\n",
    "        assert np.linalg.norm(self.vv[2, :]-self.vv[3, :] - self.a1) <= self.tol\n",
    "        assert np.linalg.norm(self.vv[2, :]-self.vv[1, :] - self.a2) <= self.tol\n",
    "        \n",
    "    def inside(self, x, on_boundary):\n",
    "        # return True if on left or bottom boundary AND NOT on one of the \n",
    "        # bottom-right or top-left vertices\n",
    "        return bool((near(x[0], self.vv[0,0] + x[1]*self.a2[0]/self.vv[3,1], self.tol) or \n",
    "                     near(x[1], self.vv[0,1] + x[0]*self.a1[1]/self.vv[1,0], self.tol)) and \n",
    "                     (not ((near(x[0], self.vv[1,0], self.tol) and near(x[1], self.vv[1,1], self.tol)) or \n",
    "                     (near(x[0], self.vv[3,0], self.tol) and near(x[1], self.vv[3,1], self.tol)))) and on_boundary)\n",
    "\n",
    "    def map(self, x, y):\n",
    "        if near(x[0], self.vv[2,0], self.tol) and near(x[1], self.vv[2,1], self.tol): # if on top-right corner\n",
    "            y[0] = x[0] - (self.a1[0]+self.a2[0])\n",
    "            y[1] = x[1] - (self.a1[1]+self.a2[1])\n",
    "        elif near(x[0], self.vv[1,0] + x[1]*self.a2[0]/self.vv[2,1], self.tol): # if on right boundary\n",
    "            y[0] = x[0] - self.a1[0]\n",
    "            y[1] = x[1] - self.a1[1]\n",
    "        else:   # should be on top boundary\n",
    "            y[0] = x[0] - self.a2[0]\n",
    "            y[1] = x[1] - self.a2[1]"
   ]
  },
  {
   "cell_type": "markdown",
   "metadata": {},
   "source": [
    "We now define the constitutive law for both phases:"
   ]
  },
  {
   "cell_type": "code",
   "execution_count": 4,
   "metadata": {},
   "outputs": [],
   "source": [
    "Em = 50e3\n",
    "num = 0.2\n",
    "Er = 210e3\n",
    "nur = 0.3\n",
    "material_parameters = [(Em, num), (Er, nur)]\n",
    "nphases = len(material_parameters)\n",
    "def eps(v):\n",
    "    return sym(grad(v))\n",
    "def sigma(v, i, Eps):\n",
    "    E, nu = material_parameters[i]\n",
    "    lmbda = E*nu/(1+nu)/(1-2*nu)\n",
    "    mu = E/2/(1+nu)\n",
    "    return lmbda*tr(eps(v) + Eps)*Identity(2) + 2*mu*(eps(v)+Eps)"
   ]
  },
  {
   "cell_type": "markdown",
   "metadata": {},
   "source": [
    "## Variational formulation\n",
    "\n",
    "The previous problem is very similar to a standard linear elasticity problem, except for the periodicity constraint which has now been included in the FunctionSpace definition and for the presence of an eigenstrain term $\\boldsymbol{E}$. It can easily be shown that the variational formulation of the previous problem reads as: Find $\\boldsymbol{v}\\in V$ such that:\n",
    "\n",
    "$$\\begin{equation}\n",
    "F(\\boldsymbol{v},\\widehat{\\boldsymbol{v}}) = \\int_{\\mathcal{A}} (\\boldsymbol{E}+\\nabla^s\\boldsymbol{v}):\\mathbb{C}(\\boldsymbol{y}):\\nabla^s\\widehat{\\boldsymbol{v}}\\text{ d} \\Omega = 0 \\quad \\forall \\widehat{\\boldsymbol{v}}\\in V\n",
    "\\end{equation}$$\n",
    "\n",
    "The above problem is not well-posed because of the existence of rigid body translations. One way to circumvent this issue would be to fix one point but instead we will add an additional constraint of zero-average of the fluctuation field $v$ as is classically done in homogenization theory. This is done by considering an additional vectorial Lagrange multiplier $\\lambda$ and considering the following variational problem (see the [pure Neumann boundary conditions FEniCS demo](https://fenicsproject.org/docs/dolfin/2019.1.0/python/demos/neumann-poisson/demo_neumann-poisson.py.html) for a similar formulation): Find $(\\boldsymbol{v},\\boldsymbol{\\lambda})\\in V\\times \\mathbb{R}^2$ such that:\n",
    "\n",
    "$$\\begin{equation}\n",
    "\\int_{\\mathcal{A}} (\\boldsymbol{E}+\\nabla^s\\boldsymbol{v}):\\mathbb{C}(\\boldsymbol{y}):\\nabla^s\\widehat{\\boldsymbol{v}}\\text{ d} \\Omega + \\int_{\\mathcal{A}} \\boldsymbol{\\lambda}\\cdot\\widehat{\\boldsymbol{v}} \\text{ d} \\Omega + \\int_{\\mathcal{A}} \\widehat{\\boldsymbol{\\lambda}}\\cdot\\boldsymbol{v} \\text{ d} \\Omega = 0 \\quad \\forall (\\widehat{\\boldsymbol{v}}, \\widehat{\\boldsymbol{\\lambda}})\\in V\\times\\mathbb{R}^2\n",
    "\\end{equation}$$\n",
    "\n",
    "Which can be summarized as:\n",
    "\n",
    "$$\\begin{equation}\n",
    "a(\\boldsymbol{v},\\widehat{\\boldsymbol{v}}) + b(\\boldsymbol{\\lambda},\\widehat{\\boldsymbol{v}}) + b(\\widehat{\\boldsymbol{\\lambda}}, \\boldsymbol{v}) = L(\\widehat{\\boldsymbol{v}}) \\quad \\forall (\\widehat{\\boldsymbol{v}}, \\widehat{\\boldsymbol{\\lambda}})\\in V\\times\\mathbb{R}^2\n",
    "\\end{equation}$$\n",
    "\n",
    "This readily translates into the following FEniCS code:"
   ]
  },
  {
   "cell_type": "code",
   "execution_count": 8,
   "metadata": {},
   "outputs": [],
   "source": [
    "Ve = VectorElement(\"CG\", mesh.ufl_cell(), 2)\n",
    "Re = VectorElement(\"R\", mesh.ufl_cell(), 0)\n",
    "W = FunctionSpace(mesh, MixedElement([Ve, Re]), constrained_domain=PeriodicBoundary(vertices, tolerance=1e-10))\n",
    "V = FunctionSpace(mesh, Ve)\n",
    "\n",
    "v_,lamb_ = TestFunctions(W)\n",
    "dv, dlamb = TrialFunctions(W)\n",
    "w = Function(W)\n",
    "dx = Measure('dx')(subdomain_data=subdomains)\n",
    "\n",
    "Eps = Constant(((0, 0), (0, 0)))\n",
    "F = sum([inner(sigma(dv, i, Eps), eps(v_))*dx(i) for i in range(nphases)])\n",
    "a, L = lhs(F), rhs(F)\n",
    "a += dot(lamb_,dv)*dx + dot(dlamb,v_)*dx"
   ]
  },
  {
   "cell_type": "markdown",
   "metadata": {},
   "source": [
    "We have used a general implementation using a sum over the different phases for the functional `F`. We then used the `lhs` and `rhs` functions to respectively extract the corresponding bilinear $a$ and linear $L$ forms.\n",
    "\n",
    "## Resolution\n",
    "\n",
    "The resolution of the auxiliary problem is performed for elementary load cases consisting of uniaxial strain and pure shear sollicitations by assigning unit values of the correspnonding $E_{ij}$ components. For each load case, the average stress $\\boldsymbol{\\Sigma}$ is computed components by components and the macroscopic stiffness components $\\mathbb{C}^{hom}$ are then printed."
   ]
  },
  {
   "cell_type": "code",
   "execution_count": 9,
   "metadata": {},
   "outputs": [
    {
     "name": "stdout",
     "output_type": "stream",
     "text": [
      "Solving Exx case...\n",
      "Solving Eyy case...\n",
      "Solving Exy case...\n",
      "[[ 6.56e+04  1.74e+04 -2.43e-02]\n",
      " [ 1.74e+04  6.56e+04 -4.10e-02]\n",
      " [-2.43e-02 -4.10e-02  2.41e+04]]\n"
     ]
    }
   ],
   "source": [
    "def macro_strain(i):\n",
    "    \"\"\"returns the macroscopic strain for the 3 elementary load cases\"\"\"\n",
    "    Eps_Voigt = np.zeros((3,))\n",
    "    Eps_Voigt[i] = 1\n",
    "    return np.array([[Eps_Voigt[0], Eps_Voigt[2]/2.], \n",
    "                    [Eps_Voigt[2]/2., Eps_Voigt[1]]])\n",
    "def stress2Voigt(s):\n",
    "    return as_vector([s[0,0], s[1,1], s[0,1]])\n",
    "\n",
    "Chom = np.zeros((3, 3))\n",
    "for (j, case) in enumerate([\"Exx\", \"Eyy\", \"Exy\"]):\n",
    "    print(\"Solving {} case...\".format(case))\n",
    "    Eps.assign(Constant(macro_strain(j)))\n",
    "    F = sum([inner(sigma(dv, i, Constant(macro_strain(j))), eps(v_))*dx(i) for i in range(nphases)]) + dot(lamb_,dv)*dx + dot(dlamb,v_)*dx\n",
    "    a, L = lhs(F), rhs(F)\n",
    "    solve(a == L, w, [])\n",
    "    (v, lamb) = split(w)\n",
    "    Sigma = np.zeros((3,))\n",
    "    for k in range(3):\n",
    "        Sigma[k] = assemble(sum([stress2Voigt(sigma(v, i, Eps))[k]*dx(i) for i in range(nphases)]))/vol\n",
    "    Chom[j, :] = Sigma\n",
    "\n",
    "print(np.array_str(Chom, precision=2))"
   ]
  },
  {
   "cell_type": "code",
   "execution_count": null,
   "metadata": {},
   "outputs": [],
   "source": [
    "for (j, case) in enumerate([\"Exx\", \"Eyy\", \"Exy\"]):\n",
    "    print(\"Solving {} case...\".format(case))\n",
    "    print(j)"
   ]
  },
  {
   "cell_type": "markdown",
   "metadata": {},
   "source": [
    "It can first be verified that the obtained macroscopic stiffness is indeed symmetric and that the corresponding behaviour is quasi-isotropic (up to the finite element discretization error). Indeed, if $\\lambda^{hom} = \\mathbb{C}_{xxyy}$ and $\\mu^{hom} = \\mathbb{C}_{xyxy}$ we have that $\\mathbb{C}_{xxxx}\\approx\\mathbb{C}_{yyyy}\\approx \\mathbb{C}_{xxyy}+2\\mathbb{C}_{xyxy} = \\lambda^{hom}+2\\mu^{hom}$.\n",
    "\n",
    "> **Note:** The macroscopic stiffness is not exactly symmetric because we computed it from the average stress which is not stricly verifying local equilibrium on the unit cell due to the FE discretization. A truly symmetric version can be obtained from the computation of the bilinear form for a pair of solutions to the elementary load cases."
   ]
  },
  {
   "cell_type": "code",
   "execution_count": null,
   "metadata": {},
   "outputs": [],
   "source": [
    "lmbda_hom = Chom[0, 1]\n",
    "mu_hom = Chom[2, 2]\n",
    "print(Chom[0, 0], lmbda_hom + 2*mu_hom)"
   ]
  },
  {
   "cell_type": "markdown",
   "metadata": {},
   "source": [
    "We thus deduce that $E^{hom} = \\mu^{hom}\\dfrac{3\\lambda^{hom}+2\\mu^{hom}}{\\lambda^{hom}+\\mu^{hom}}$ and $\\nu^{hom} = \\dfrac{\\lambda^{hom}}{2(\\lambda^{hom}+\\mu^{hom})}$ that is:"
   ]
  },
  {
   "cell_type": "code",
   "execution_count": null,
   "metadata": {},
   "outputs": [],
   "source": [
    "E_hom = mu_hom*(3*lmbda_hom + 2*mu_hom)/(lmbda_hom + mu_hom)\n",
    "nu_hom = lmbda_hom/(lmbda_hom + mu_hom)/2\n",
    "print(\"Apparent Young modulus:\", E_hom)\n",
    "print(\"Apparent Poisson ratio:\", nu_hom)"
   ]
  },
  {
   "cell_type": "code",
   "execution_count": null,
   "metadata": {},
   "outputs": [],
   "source": [
    "# plotting deformed unit cell with total displacement u = Eps*y + v\n",
    "y = SpatialCoordinate(mesh)\n",
    "plt.figure()\n",
    "p = plot(0.5*(dot(Eps, y)+v), mode=\"displacement\", title=case)\n",
    "plt.colorbar(p)\n",
    "plt.show()"
   ]
  },
  {
   "cell_type": "code",
   "execution_count": null,
   "metadata": {},
   "outputs": [],
   "source": []
  }
 ],
 "metadata": {
  "celltoolbar": "Raw Cell Format",
  "kernelspec": {
   "display_name": "Python 3",
   "language": "python",
   "name": "python3"
  },
  "language_info": {
   "codemirror_mode": {
    "name": "ipython",
    "version": 3
   },
   "file_extension": ".py",
   "mimetype": "text/x-python",
   "name": "python",
   "nbconvert_exporter": "python",
   "pygments_lexer": "ipython3",
   "version": "3.6.9"
  }
 },
 "nbformat": 4,
 "nbformat_minor": 2
}
